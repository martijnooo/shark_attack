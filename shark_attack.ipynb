{
 "cells": [
  {
   "cell_type": "code",
   "execution_count": 1,
   "metadata": {},
   "outputs": [],
   "source": [
    "import pandas as pd"
   ]
  },
  {
   "cell_type": "code",
   "execution_count": 2,
   "metadata": {},
   "outputs": [],
   "source": [
    "df = pd.read_excel(\"GSAF5.xlsx\")"
   ]
  },
  {
   "cell_type": "code",
   "execution_count": 3,
   "metadata": {},
   "outputs": [],
   "source": [
    "# Goal: Commit the perfect shark murder\n",
    "# Problem Statement: Identify the correct location, activity, time of the day and what time of the year\n",
    "\n",
    "# Hypothesis 1: The perfect location is Australia (can be narrowed down on state level if fitting to the country)\n",
    "# Hypothesis 2: The perfect time of the year is early in the year on a morning\n",
    "# Hypothesis 3: The deadliest sharks will be white, tiger and bull\n",
    "\n",
    "# Columns we need: \"Fatal Y/N\", \"Country\", \"Date\", \"Activity\",  \"Time\"\n",
    "# -> GFM: Fatal & Country\n",
    "# -> LB: Date\n",
    "# -> MB: Activty & Time\n",
    "\n",
    "\n",
    "# further stuf:\n",
    "# - age, gender of the person we try to kill\n",
    "# species for \"e.g should be killed by white shark\""
   ]
  },
  {
   "cell_type": "code",
   "execution_count": 4,
   "metadata": {},
   "outputs": [
    {
     "data": {
      "text/plain": [
       "Index(['Date', 'Year', 'Type', 'Country', 'State', 'Location', 'Activity',\n",
       "       'Name', 'Sex', 'Age', 'Injury', 'Fatal Y/N', 'Time', 'Species ',\n",
       "       'Source', 'pdf', 'href formula', 'href', 'Case Number', 'Case Number.1',\n",
       "       'original order', 'Unnamed: 21', 'Unnamed: 22'],\n",
       "      dtype='object')"
      ]
     },
     "execution_count": 4,
     "metadata": {},
     "output_type": "execute_result"
    }
   ],
   "source": [
    "df.columns"
   ]
  },
  {
   "cell_type": "code",
   "execution_count": 5,
   "metadata": {},
   "outputs": [
    {
     "data": {
      "text/plain": [
       "0"
      ]
     },
     "execution_count": 5,
     "metadata": {},
     "output_type": "execute_result"
    }
   ],
   "source": [
    "df.duplicated().sum()\n",
    "# -> No duplicates\n"
   ]
  },
  {
   "cell_type": "markdown",
   "metadata": {},
   "source": [
    "# Activity cleaning"
   ]
  },
  {
   "cell_type": "code",
   "execution_count": 6,
   "metadata": {},
   "outputs": [
    {
     "name": "stdout",
     "output_type": "stream",
     "text": [
      "Activity has 8.0% empty values.\n"
     ]
    }
   ],
   "source": [
    "# Goal: Commit the perfect shark murder\n",
    "# Problem Statement: Identify the correct location, activity,  time of the day and what time of the year\n",
    "\n",
    "df_time_activity_null = df[[\"Time\", \"Activity\"]].isnull().mean()\n",
    "activity_null = df_time_activity_null[\"Activity\"]\n",
    "print(f\"Activity has {round(activity_null,2)*100}% empty values.\")"
   ]
  },
  {
   "cell_type": "code",
   "execution_count": 7,
   "metadata": {},
   "outputs": [],
   "source": [
    "# clean column from any typing mistakes\n",
    "df.Activity = df.Activity.apply(lambda x: ' '.join(x.lower().split()).replace(\" \", \"_\").replace(\"-\",\"_\") if isinstance(x,str) else x)"
   ]
  },
  {
   "cell_type": "code",
   "execution_count": 8,
   "metadata": {},
   "outputs": [],
   "source": [
    "# summarise surfing activities into one\n",
    "df.Activity = df.Activity.replace({\"stand_up_paddleboarding\":\"surface_sport\", \"paddle_boarding\":\"surface_sport\", \"kite_surfing\": \"surface_sport\",\"windsurfing\":\"surface_sport\", \"surf_skiing\":\"surface_sport\",\"kayaking\":\"surface_sport\",\"rowing\":\"surface_sport\",\"canoeing\":\"surface_sport\", \"surfing\":\"surface_sport\", \"body_boarding\": \"surface_sport\", \"boogie_boarding\": \"surface_sport\"})\n",
    "#df['Activity'] = df['Activity'].str.replace(pat=r\"(?i)(\\S*surf\\S*|\\S*board\\S*)\", repl=\"surfing\", regex=True)\n",
    "# summarise diving activities\n",
    "df['Activity'] = df['Activity'].str.replace(pat=r\"(?i)(\\S*dive\\S*|\\S*divi\\S*)\", repl=\"diving_activities\", regex=True).replace({\"diving\":\"diving_activities\", \"snorkeling\":\"diving_activities\"})\n",
    "# summarise bathing\n",
    "df.Activity = df.Activity.replace({\"walking\":\"swimming\",\"wading\":\"swimming\",\"playing\":\"swimming\",\"floating_on_his_back\": \"swimming\", \"treading_water\": \"swimming\", \"body_surfing\":\"swimming\", \"bathing\":\"swimming\", \"standing\":\"swimming\", \"floating\":\"swimming\"})\n",
    "# summarise fishing\n",
    "df['Activity'] = df['Activity'].str.replace(pat=r\"(?i)(\\S*fish\\S*)\", repl=\"fishing\", regex=True)\n",
    "# disaster\n",
    "df.Activity = df.Activity.replace({\"fell_overboard\": \"accident\", \"sea_disaster\":\"accident\"})\n",
    "# categorize other activities\n",
    "df.Activity = df.Activity.apply(lambda x: x if x in [\"surface_sport\", \"diving_activities\", \"swimming\", \"fishing\", \"accident\"] else \"unqualified\")"
   ]
  },
  {
   "cell_type": "code",
   "execution_count": 9,
   "metadata": {},
   "outputs": [
    {
     "data": {
      "text/plain": [
       "Activity\n",
       "unqualified          1808\n",
       "swimming             1641\n",
       "surface_sport        1436\n",
       "fishing              1286\n",
       "diving_activities     786\n",
       "accident               47\n",
       "Name: count, dtype: int64"
      ]
     },
     "execution_count": 9,
     "metadata": {},
     "output_type": "execute_result"
    }
   ],
   "source": [
    "df.Activity.value_counts().nlargest(20)"
   ]
  },
  {
   "cell_type": "markdown",
   "metadata": {},
   "source": [
    "# Time Cleaning"
   ]
  },
  {
   "cell_type": "code",
   "execution_count": 10,
   "metadata": {},
   "outputs": [
    {
     "name": "stdout",
     "output_type": "stream",
     "text": [
      "Time has 50.0% empty values.\n"
     ]
    }
   ],
   "source": [
    "time_null = df_time_activity_null[\"Time\"]\n",
    "print(f\"Time has {round(time_null,2)*100}% empty values.\")"
   ]
  },
  {
   "cell_type": "code",
   "execution_count": 11,
   "metadata": {},
   "outputs": [],
   "source": [
    "df['Time'] = df['Time'].replace(to_replace=r'(?i).*noon.*', value='Afternoon', regex=True)\n",
    "df['Time'] = df['Time'].replace(to_replace=r'(?i).*morning.*', value='Morning', regex=True)\n",
    "df['Time'] = df['Time'].replace(to_replace=r'(?i).*Night.*', value='Night', regex=True)\n",
    "df.Time = df.Time.replace({\"P.M.\":\"Afternoon\", \"A.M.\":\"Morning\", \"Dusk\":\"Morning\", \"Midday\": \"Afternoon\"})"
   ]
  },
  {
   "cell_type": "code",
   "execution_count": 12,
   "metadata": {},
   "outputs": [],
   "source": [
    "def categorize_time(time):\n",
    "    if pd.isna(time) or time == \"?\":\n",
    "        return \"Unknown\"\n",
    "    try:\n",
    "        hour = int(time[:2])\n",
    "        if 6 <= hour < 12:\n",
    "            return \"Morning\"\n",
    "        elif 12 <= hour < 18:\n",
    "            return \"Afternoon\"\n",
    "        elif 18 <= hour < 22:\n",
    "            return \"Evening\"\n",
    "        else:\n",
    "            return \"Night\"\n",
    "    except:\n",
    "        return time\n",
    "\n",
    "# Columns we need: \"Fatal Y/N\", \"Country\", \"Date\", \"Activity\",  \"Time\"\n",
    "# -> GFM: Fatal & Country\n",
    "# -> LB: Date\n",
    "# -> MB: Activty & Time\n",
    "\n",
    "\n",
    "# further stuf:\n",
    "# - age, gender of the person we try to kill\n",
    "# species for \"e.g should be killed by white shark\"\n",
    "\n",
    "\n",
    "\n"
   ]
  },
  {
   "cell_type": "code",
   "execution_count": 13,
   "metadata": {},
   "outputs": [],
   "source": [
    "def clean_date_column(df, column_name, date_format='%Y-%m-%d', fill_na=None):\n",
    "    \"\"\"\n",
    "    Cleans a date column in a DataFrame and returns both cleaned and invalid rows.\n",
    "\n",
    "    Parameters:\n",
    "    - df (pd.DataFrame): The DataFrame containing the date column.\n",
    "    - column_name (str): The name of the date column to clean.\n",
    "    - date_format (str, optional): The format to standardize the date to (default: '%Y-%m-%d').\n",
    "    - fill_na (str or pd.Timestamp, optional): A default date to fill missing/invalid values. If None, does not fill.\n",
    "\n",
    "    Returns:\n",
    "    - pd.DataFrame: The DataFrame with the cleaned date column.\n",
    "    - pd.DataFrame: A DataFrame containing rows that had invalid dates.\n",
    "    - dict: A summary of how many rows were affected.\n",
    "    \"\"\"\n",
    "    df = df.copy()  # Avoid modifying the original DataFrame\n",
    "\n",
    "    # Convert column to datetime, coercing errors to NaT\n",
    "    df[column_name] = pd.to_datetime(df[column_name], errors='coerce')\n",
    "\n",
    "    # Separate valid and invalid date rows\n",
    "    valid_df = df[df[column_name].notna()].copy()\n",
    "    invalid_df = df[df[column_name].isna()].copy()\n",
    "\n",
    "    # Count invalid dates\n",
    "    invalid_count = len(invalid_df)\n",
    "\n",
    "    # Handle missing values in valid_df\n",
    "    if fill_na is not None:\n",
    "        valid_df[column_name] = valid_df[column_name].fillna(pd.Timestamp(fill_na))\n",
    "\n",
    "    # Standardize date format\n",
    "    valid_df[column_name] = valid_df[column_name].dt.strftime(date_format)\n",
    "\n",
    "    # Summary of changes\n",
    "    summary = {\n",
    "        \"total_rows\": len(df),\n",
    "        \"valid_rows\": len(valid_df),\n",
    "        \"invalid_rows\": invalid_count,\n",
    "        \"filled_rows\": invalid_count if fill_na else 0\n",
    "    }\n",
    "\n",
    "    print(\"Date Cleaning Summary:\", summary)\n",
    "    \n",
    "    return valid_df, invalid_df, summary\n",
    "\n",
    "# cleaned_df, invalid_df, summary = clean_date_column(df, 'Date')\n",
    "\n",
    "# print(\"\\nCleaned DataFrame:\")\n",
    "# display(cleaned_df)\n",
    "\n",
    "# print(\"\\nInvalid DataFrame:\")\n",
    "# display(invalid_df)\n"
   ]
  },
  {
   "cell_type": "markdown",
   "metadata": {},
   "source": [
    "-----\n",
    "# Guillermo Working on Cleaning  Fatal Y/N\n"
   ]
  },
  {
   "cell_type": "code",
   "execution_count": 14,
   "metadata": {},
   "outputs": [
    {
     "data": {
      "text/plain": [
       "\" Sample data as a list\\nvalues = ['N', 'Y', 'F', 'M', float('nan'), 'n', 'Nq', 'UNKNOWN', 2017, 'Y x 2', ' N', 'N ', 'y']\\n\\ndifferent values in column fatal y/n:\\n Fatal Y/N\\nN          4877\\nY          1474\\nUNKNOWN      71\\n N            7\\nF             5\\nM             3\\nn             1\\nNq            1\\n2017          1\\nY x 2         1\\nN             1\\ny             1\\nName: count, dtype: int64\\n['N' 'Y' 'F' 'M' nan 'n' 'Nq' 'UNKNOWN' 2017 'Y x 2' ' N' 'N ' 'y']\\nNumber of NaN values in 'Fatal Y/N' column: 561\\n\\nThe result is:\\n\\ndifferent values in column fatal y/n:\\n Fatal Y/N\\nN    4887\\nY    1476\\nU     641\\nName: count, dtype: int64\\n['N' 'Y' 'U']\\nNumber of NaN values in 'Fatal Y/N' column: 0\""
      ]
     },
     "execution_count": 14,
     "metadata": {},
     "output_type": "execute_result"
    }
   ],
   "source": [
    "# Code to clean the 'Fatal Y/N' column in the DataFrame\n",
    "\n",
    "# Define a dictionary to map current values to 'Yes' or 'No'\n",
    "'''replacements = {\n",
    "    'Y': 'Yes',\n",
    "    'N': 'No',\n",
    "    'UNKNOWN': 'No',  # Example of treating unknown as 'No', adjust as needed\n",
    "    'nan': 'No',      # Handle missing values, adjust if they should be 'Yes' \n",
    "    # Add more mappings if necessary\n",
    "}\n",
    "'''\n",
    "# Sample data as a list\n",
    "values = ['N', 'Y', 'F', 'M', float('nan'), 'n', 'Nq', 'UNKNOWN', 2017, 'Y x 2', ' N', 'N ', 'y']\n",
    "\n",
    "# Define a dictionary for the mappings\n",
    "mapping = {\n",
    "    'N': 'N',\n",
    "    'Y': 'Y',\n",
    "    'F': 'U',           # Assuming 'F' and 'M' are unusual entries we'll consider unknown ('U')\n",
    "    'M': 'U',\n",
    "    'n': 'N',\n",
    "    'Nq': 'N',\n",
    "    'UNKNOWN': 'U',\n",
    "    2017: 'U',         # With the numerical could Keep numerical years unchanged or convert to 'U'\n",
    "    'Y x 2': 'Y',       # Considering 'Y x 2' as a form of 'Yes'\n",
    "    ' N': 'N',\n",
    "    'N ': 'N',\n",
    "    'y': 'Y'\n",
    "}\n",
    "\n",
    "# Apply the mapping to the column\n",
    "df['Fatal Y/N'] = df['Fatal Y/N'].replace(mapping).fillna('U')\n",
    "\n",
    "# Print the cleaned DataFrame column\n",
    "# print(df['Fatal Y/N'].value_counts())\n",
    "\n",
    "\n",
    "''' Sample data as a list\n",
    "values = ['N', 'Y', 'F', 'M', float('nan'), 'n', 'Nq', 'UNKNOWN', 2017, 'Y x 2', ' N', 'N ', 'y']\n",
    "\n",
    "different values in column fatal y/n:\n",
    " Fatal Y/N\n",
    "N          4877\n",
    "Y          1474\n",
    "UNKNOWN      71\n",
    " N            7\n",
    "F             5\n",
    "M             3\n",
    "n             1\n",
    "Nq            1\n",
    "2017          1\n",
    "Y x 2         1\n",
    "N             1\n",
    "y             1\n",
    "Name: count, dtype: int64\n",
    "['N' 'Y' 'F' 'M' nan 'n' 'Nq' 'UNKNOWN' 2017 'Y x 2' ' N' 'N ' 'y']\n",
    "Number of NaN values in 'Fatal Y/N' column: 561\n",
    "\n",
    "The result is:\n",
    "\n",
    "different values in column fatal y/n:\n",
    " Fatal Y/N\n",
    "N    4887\n",
    "Y    1476\n",
    "U     641\n",
    "Name: count, dtype: int64\n",
    "['N' 'Y' 'U']\n",
    "Number of NaN values in 'Fatal Y/N' column: 0'''\n",
    "\n",
    "\n"
   ]
  },
  {
   "cell_type": "markdown",
   "metadata": {},
   "source": [
    "----\n",
    "# Cleaning Country:"
   ]
  },
  {
   "cell_type": "code",
   "execution_count": 15,
   "metadata": {},
   "outputs": [],
   "source": [
    "# Strip leading/trailing whitespaces and convert to lowercase\n",
    "df['Country'] = df['Country'].str.lower().str.strip()\n"
   ]
  },
  {
   "cell_type": "code",
   "execution_count": 16,
   "metadata": {},
   "outputs": [],
   "source": [
    "# Replace NaN in the 'Country' column with 'unknown'\n",
    "df['Country'] = df['Country'].fillna('unknown')\n"
   ]
  },
  {
   "cell_type": "code",
   "execution_count": 17,
   "metadata": {},
   "outputs": [],
   "source": [
    "# 1st step: Clean the 'Country' column\n",
    "\n",
    "# Create the 'Region' column because too many entries with regions instead of countries in the 'Country' column. \n",
    "# that way we can still use the data even if it more generalized. Also there are a lot of small islands that have to be research to know where are they located.\n",
    "\n",
    "regions = [\n",
    "    'atlantic ocean', 'pacific ocean', 'indian ocean', 'red sea', 'mediterranean sea',\n",
    "    'caribbean sea', 'bay of bengal', 'gulf of aden', 'persian gulf', 'tasman sea',\n",
    "    'south china sea', 'north atlantic ocean', 'south atlantic ocean', 'north pacific ocean',\n",
    "    'south pacific ocean', 'southwest pacific ocean', 'central pacific', 'coral sea',\n",
    "    'mid atlantic ocean', 'mid-pacifc ocean', 'between portugal & india', 'coast of africa',\n",
    "    'the balkans', 'british isles', 'west indies', 'antarctica', 'ocean', 'africa',\n",
    "    'europe', 'north america', 'south america', 'oceania', 'middle east', 'asia'\n",
    "]\n",
    "# Clean 'Country' by removing '?' and whitespace\n",
    "df['Country_clean'] = df['Country'].str.replace('?', '', regex=False).str.strip()\n",
    "\n",
    "# Initialize 'Region' as 'unknown'\n",
    "df['Region'] = 'unknown'\n",
    "\n",
    "# Identify rows where cleaned 'Country' is a region\n",
    "is_region = df['Country_clean'].isin(regions)\n",
    "\n",
    "# Update 'Region' and 'Country' for these rows\n",
    "df.loc[is_region, 'Region'] = df.loc[is_region, 'Country_clean']\n",
    "df.loc[is_region, 'Country'] = 'unknown'\n",
    "\n",
    "# Drop the temporary 'Country_clean' column\n",
    "df.drop(columns=['Country_clean'], inplace=True)"
   ]
  },
  {
   "cell_type": "code",
   "execution_count": 18,
   "metadata": {},
   "outputs": [],
   "source": [
    "# Regroup regions and correct typos and more general regions\n",
    "region_grouping = {\n",
    "    # Ambiguous regions\n",
    "    'british isles': 'northern europe',\n",
    "    'ocean': 'unknown',\n",
    "    'coast of africa': 'africa',\n",
    "    'mid-pacifc ocean': 'pacific ocean',  # Corrected typo\n",
    "    'between portugal & india': 'unknown',\n",
    "    'the balkans': 'southeast europe',\n",
    "    'mid atlantic ocean': 'atlantic ocean',\n",
    "    'central pacific': 'pacific ocean',\n",
    "    \n",
    "    # Optional: Group smaller regions under continents\n",
    "    'caribbean sea': 'caribbean',\n",
    "    'bay of bengal': 'indian ocean',\n",
    "    'gulf of aden': 'indian ocean',\n",
    "    'persian gulf': 'middle east',\n",
    "    'tasman sea': 'pacific ocean',\n",
    "    'south china sea': 'pacific ocean',\n",
    "    'mediterranean sea': 'mediterranean',\n",
    "}\n",
    "# Step 1: Correct typos (e.g., \"mid-pacifc ocean\" → \"mid-pacific ocean\")\n",
    "df['Region'] = df['Region'].str.replace('pacifc', 'pacific')\n",
    "\n",
    "# Step 2: Apply grouping\n",
    "df['Region'] = df['Region'].replace(region_grouping)\n",
    "\n",
    "# Step 3: Handle remaining ambiguous entries (e.g., \"africa\", \"asia\")\n",
    "# Optional: If you want continents as regions, keep them. Otherwise:\n",
    "continent_to_region = {\n",
    "    'africa': 'africa',  # Keep if continents are valid regions for your analysis\n",
    "    'asia': 'asia',\n",
    "    'europe': 'europe',\n",
    "    'north america': 'north america',\n",
    "    'south america': 'south america',\n",
    "}\n",
    "df['Region'] = df['Region'].replace(continent_to_region)"
   ]
  },
  {
   "cell_type": "code",
   "execution_count": 19,
   "metadata": {},
   "outputs": [],
   "source": [
    "# Get current column list\n",
    "cols = df.columns.tolist()\n",
    "\n",
    "# Remove 'Region' from its current position\n",
    "cols.remove('Region')\n",
    "\n",
    "# Find the position of 'Country' and insert 'Region' before it\n",
    "country_position = cols.index('Country')\n",
    "cols.insert(country_position, 'Region')\n",
    "\n",
    "# Reorder the DataFrame\n",
    "df = df[cols]"
   ]
  },
  {
   "cell_type": "markdown",
   "metadata": {},
   "source": [
    "-------\n",
    "Cleaning more the Country column"
   ]
  },
  {
   "cell_type": "code",
   "execution_count": 20,
   "metadata": {},
   "outputs": [
    {
     "name": "stdout",
     "output_type": "stream",
     "text": [
      "['australia' 'bahamas' 'turks and caicos' 'mozambique' 'usa'\n",
      " 'new caledonia' 'egypt' 'thailand' 'new zealand' 'maldives' 'hawaii'\n",
      " 'honduras' 'indonesia' 'morocco' 'jamaica' 'belize' 'maldive islands'\n",
      " 'french polynesia' 'tobago' 'india' 'trinidad' 'south africa' 'mexico'\n",
      " 'philippines' 'unknown' 'spain' 'portugal' 'samoa' 'colombia' 'ecuador'\n",
      " 'cuba' 'brazil' 'seychelles' 'argentina' 'fiji' 'england' 'japan'\n",
      " 'costa rica' 'british overseas territory' 'canada' 'jordan'\n",
      " 'saint kitts and nevis' 'st martin' 'papua new guinea' 'reunion island'\n",
      " 'israel' 'china' 'ireland' 'italy' 'malaysia' 'libya' 'mauritius'\n",
      " 'solomon islands' 'saint helena' 'comoros' 'reunion' 'united kingdom'\n",
      " 'united arab emirates' 'cape verde' 'dominican republic' 'cayman islands'\n",
      " 'aruba' 'puerto rico' 'greece' 'saint martin' 'france'\n",
      " 'trinidad and tobago' 'kiribati' 'diego garcia' 'taiwan'\n",
      " 'palestinian territories' 'guam' 'nigeria' 'tonga' 'scotland' 'croatia'\n",
      " 'saudi arabia' 'chile' 'antigua' 'kenya' 'russia' 'azores' 'south korea'\n",
      " 'malta' 'vietnam' 'madagascar' 'panama' 'somalia' 'nevis'\n",
      " 'virgin islands' 'norway' 'senegal' 'yemen' 'sierra leone' 'liberia'\n",
      " 'vanuatu' 'venezuela' 'sri lanka' 'uruguay' 'micronesia' 'okinawa'\n",
      " 'tanzania' 'marshall islands' 'northern arabian sea' 'hong kong'\n",
      " 'el salvador' 'angola' 'bermuda' 'montenegro' 'iran' 'tunisia' 'namibia'\n",
      " 'bangladesh' 'palau' 'grenada' 'iraq' 'turkey' 'singapore' 'new britain'\n",
      " 'sudan' 'johnston atoll' 'new guinea' 'federated states of micronesia'\n",
      " 'admiralty islands' 'british west indies' 'indian ocean' 'north sea'\n",
      " 'nicaragua' 'american samoa' 'andaman and nicobar islands' 'gabon'\n",
      " 'mayotte' 'sudan?' 'martinique' 'guatemala' 'netherlands antilles'\n",
      " 'northern mariana islands' 'java' 'solomon islands and vanuatu'\n",
      " 'slovenia' 'curacao' 'iceland' 'barbados' 'monaco' 'guyana' 'haiti'\n",
      " 'kuwait' 'falkland islands' 'crete' 'cyprus' 'myanmar' 'lebanon'\n",
      " 'paraguay' 'georgia' 'syria' 'tuvalu' 'guinea' 'equatorial guinea'\n",
      " 'cook islands' 'peru' 'algeria' 'ghana' 'greenland' 'sweden' 'roatan'\n",
      " 'djibouti' 'bahrein' 'korea']\n"
     ]
    }
   ],
   "source": [
    "# 2nd version of country mapping (after taking out the regions)\n",
    "country_mapping = {\n",
    "    # Fix typos and variations\n",
    "    'st kitts / nevis': 'saint kitts and nevis',\n",
    "    'st. martin': 'saint martin',\n",
    "    'st. maartin': 'saint martin',\n",
    "    'st helena, british overseas territory': 'saint helena',\n",
    "    'turks & caicos': 'turks and caicos',\n",
    "    'ceylon (sri lanka)': 'sri lanka',\n",
    "    'ceylon': 'sri lanka',\n",
    "    'british isles': 'united kingdom',  # Preserve as a distinct entity\n",
    "    'burma': 'myanmar',\n",
    "    'western samoa': 'samoa',\n",
    "    'british new guinea': 'papua new guinea',\n",
    "    'andaman / nicobar islandas': 'andaman and nicobar islands',\n",
    "    'andaman islands': 'andaman and nicobar islands',\n",
    "    'johnston island': 'johnston atoll',  # Preserve as a distinct entity\n",
    "    'british virgin islands': 'virgin islands',  # Preserve as a distinct entity\n",
    "    'netherlands antilles': 'netherlands antilles',  # Preserve as a distinct entity\n",
    "    'san domingo': 'dominican republic',\n",
    "    'grand cayman': 'cayman islands',  # Preserve as a distinct entity\n",
    "    'coast of africa': 'africa',  # Preserve as a distinct entity\n",
    "    'red sea / indian ocean': 'indian ocean',  # Preserve as a distinct entity\n",
    "    # 'between portugal & india': 'between portugal and india',  # Preserve as a distinct entity\n",
    "    # 'ocean': 'ocean',  # Preserve as a distinct entity\n",
    "    # 'unknown': 'unknown',\n",
    "\n",
    "    # Fix misspellings without grouping\n",
    "    'columbia': 'colombia',\n",
    "    \n",
    "    'united arab emirates (uae)': 'united arab emirates',\n",
    "    'solomon islands / vanuatu': 'solomon islands and vanuatu',\n",
    "    'trinidad & tobago': 'trinidad and tobago',\n",
    "                                                # Countries with double country \n",
    "    'egypt / israel': 'egypt',           # Egypt is often in total\n",
    "    'equatorial guinea / cameroon': 'equatorial guinea',\n",
    "    'iran / iraq': 'iran',\n",
    "    'italy / croatia': 'italy',\n",
    "    # 'red sea / indian ocean': 'red sea and indian ocean',\n",
    "    # 'mid-pacifc ocean': 'mid-pacific ocean',\n",
    "    # 'the balkans': 'the balkans',  # Preserve as a distinct entity\n",
    "}\n",
    "\n",
    "# Apply the mapping to the 'Country' column\n",
    "df['Country'] = df['Country'].replace(country_mapping)\n",
    "\n",
    "print(df['Country'].unique())"
   ]
  },
  {
   "cell_type": "code",
   "execution_count": 21,
   "metadata": {},
   "outputs": [],
   "source": [
    "region_mapping = {\n",
    "    # Australia and Oceania\n",
    "    'australia': 'australia and oceania',\n",
    "    'new caledonia': 'australia and oceania',\n",
    "    'new zealand': 'australia and oceania',\n",
    "    'fiji': 'australia and oceania',\n",
    "    'samoa': 'australia and oceania',\n",
    "    'papua new guinea': 'australia and oceania',\n",
    "    'solomon islands': 'australia and oceania',\n",
    "    'vanuatu': 'australia and oceania',\n",
    "    'kiribati': 'australia and oceania',\n",
    "    'tonga': 'australia and oceania',\n",
    "    'micronesia': 'australia and oceania',\n",
    "    'marshall islands': 'australia and oceania',\n",
    "    'palau': 'australia and oceania',\n",
    "    'cook islands': 'australia and oceania',\n",
    "    'french polynesia': 'australia and oceania',\n",
    "    'american samoa': 'australia and oceania',\n",
    "    'guam': 'australia and oceania',\n",
    "    'northern mariana islands': 'australia and oceania',\n",
    "    'new guinea': 'australia and oceania',\n",
    "    'admiralty islands': 'australia and oceania',\n",
    "    'johnston atoll': 'australia and oceania',\n",
    "\n",
    "    # Caribbean\n",
    "    'bahamas': 'caribbean',\n",
    "    'turks and caicos': 'caribbean',\n",
    "    'jamaica': 'caribbean',\n",
    "    'cuba': 'caribbean',\n",
    "    'dominican republic': 'caribbean',\n",
    "    'cayman islands': 'caribbean',\n",
    "    'aruba': 'caribbean',\n",
    "    'puerto rico': 'caribbean',\n",
    "    'saint kitts and nevis': 'caribbean',\n",
    "    'saint martin': 'caribbean',\n",
    "    'trinidad and tobago': 'caribbean',\n",
    "    'barbados': 'caribbean',\n",
    "    'grenada': 'caribbean',\n",
    "    'antigua': 'caribbean',\n",
    "    'virgin islands': 'caribbean',\n",
    "    'haiti': 'caribbean',\n",
    "    'belize': 'caribbean',\n",
    "    'netherlands antilles': 'caribbean',\n",
    "    'curacao': 'caribbean',\n",
    "\n",
    "    # North America\n",
    "    'usa': 'north america',\n",
    "    'canada': 'north america',\n",
    "    'mexico': 'north america',\n",
    "    'greenland': 'north america',\n",
    "    'bermuda': 'north america',\n",
    "\n",
    "    # South America\n",
    "    'brazil': 'south america',\n",
    "    'argentina': 'south america',\n",
    "    'colombia': 'south america',\n",
    "    'ecuador': 'south america',\n",
    "    'chile': 'south america',\n",
    "    'peru': 'south america',\n",
    "    'venezuela': 'south america',\n",
    "    'uruguay': 'south america',\n",
    "    'paraguay': 'south america',\n",
    "    'guyana': 'south america',\n",
    "    'falkland islands': 'south america',\n",
    "\n",
    "    # Europe\n",
    "    'spain': 'southern europe',\n",
    "    'portugal': 'southern europe',\n",
    "    'greece': 'southern europe',\n",
    "    'italy': 'southern europe',\n",
    "    'malta': 'southern europe',\n",
    "    'croatia': 'southern europe',\n",
    "    'montenegro': 'southern europe',\n",
    "    'slovenia': 'southern europe',\n",
    "    'france': 'western europe',\n",
    "    'united kingdom': 'western europe',\n",
    "    'ireland': 'western europe',\n",
    "    'iceland': 'northern europe',\n",
    "    'norway': 'northern europe',\n",
    "    'sweden': 'northern europe',\n",
    "    'azores': 'western europe',\n",
    "    'cyprus': 'southern europe',\n",
    "    'crete': 'southern europe',\n",
    "\n",
    "    # Africa\n",
    "    'egypt': 'northern africa',\n",
    "    'morocco': 'northern africa',\n",
    "    'libya': 'northern africa',\n",
    "    'tunisia': 'northern africa',\n",
    "    'algeria': 'northern africa',\n",
    "    'south africa': 'southern africa',\n",
    "    'mozambique': 'southern africa',\n",
    "    'madagascar': 'southern africa',\n",
    "    'mauritius': 'southern africa',\n",
    "    'seychelles': 'southern africa',\n",
    "    'comoros': 'southern africa',\n",
    "    'reunion': 'southern africa',\n",
    "    'reunion island': 'southern africa',\n",
    "    'saint helena': 'southern africa',\n",
    "    'angola': 'central africa',\n",
    "    'cameroon': 'central africa',\n",
    "    'gabon': 'central africa',\n",
    "    'equatorial guinea': 'central africa',\n",
    "    'kenya': 'eastern africa',\n",
    "    'tanzania': 'eastern africa',\n",
    "    'somalia': 'eastern africa',\n",
    "    'ethiopia': 'eastern africa',\n",
    "    'djibouti': 'eastern africa',\n",
    "    'senegal': 'western africa',\n",
    "    'nigeria': 'western africa',\n",
    "    'ghana': 'western africa',\n",
    "    'liberia': 'western africa',\n",
    "    'sierra leone': 'western africa',\n",
    "    'cape verde': 'western africa',\n",
    "    'namibia': 'southern africa',\n",
    "    'sudan': 'northern africa',\n",
    "    'sudan?': 'northern africa',\n",
    "\n",
    "    # Asia\n",
    "    'india': 'south asia',\n",
    "    'sri lanka': 'south asia',\n",
    "    'maldives': 'south asia',\n",
    "    'maldive islands': 'south asia',\n",
    "    'bangladesh': 'south asia',\n",
    "    'pakistan': 'south asia',\n",
    "    'iran': 'middle east',\n",
    "    'iraq': 'middle east',\n",
    "    'saudi arabia': 'middle east',\n",
    "    'yemen': 'middle east',\n",
    "    'jordan': 'middle east',\n",
    "    'lebanon': 'middle east',\n",
    "    'syria': 'middle east',\n",
    "    'kuwait': 'middle east',\n",
    "    'united arab emirates': 'middle east',\n",
    "    'qatar': 'middle east',\n",
    "    'oman': 'middle east',\n",
    "    'israel': 'middle east',\n",
    "    'palestinian territories': 'middle east',\n",
    "    'turkey': 'middle east',\n",
    "    'china': 'east asia',\n",
    "    'japan': 'east asia',\n",
    "    'south korea': 'east asia',\n",
    "    'north korea': 'east asia',\n",
    "    'taiwan': 'east asia',\n",
    "    'hong kong': 'east asia',\n",
    "    'thailand': 'southeast asia',\n",
    "    'malaysia': 'southeast asia',\n",
    "    'singapore': 'southeast asia',\n",
    "    'indonesia': 'southeast asia',\n",
    "    'philippines': 'southeast asia',\n",
    "    'vietnam': 'southeast asia',\n",
    "    'myanmar': 'southeast asia',\n",
    "    'cambodia': 'southeast asia',\n",
    "    'laos': 'southeast asia',\n",
    "    'brunei': 'southeast asia',\n",
    "\n",
    "    # Pacific\n",
    "    'hawaii': 'pacific',\n",
    "    'okinawa': 'pacific',\n",
    "    'new britain': 'pacific',\n",
    "    'java': 'pacific',\n",
    "    'solomon islands and vanuatu': 'pacific',\n",
    "    'federated states of micronesia': 'pacific',\n",
    "\n",
    "    # Other\n",
    "    'unknown': 'unknown',\n",
    "    'indian ocean': 'indian ocean',\n",
    "    'northern arabian sea': 'indian ocean',\n",
    "    'north sea': 'north sea',\n",
    "    'atlantic ocean': 'atlantic ocean',\n",
    "    'pacific ocean': 'pacific ocean',\n",
    "    'mediterranean sea': 'mediterranean',\n",
    "}\n",
    "\n",
    "# Apply the mapping to create/update the 'Region' column\n",
    "df['Region'] = df['Country'].map(region_mapping)\n",
    "\n",
    "# Fill any missing values with 'unknown'\n",
    "df['Region'] = df['Region'].fillna('unknown')"
   ]
  },
  {
   "cell_type": "markdown",
   "metadata": {},
   "source": [
    "----\n",
    "# Guillermo Working code:"
   ]
  },
  {
   "cell_type": "code",
   "execution_count": 26,
   "metadata": {},
   "outputs": [],
   "source": [
    "# Hypothesis 1: location x fatal\n",
    "# Test with chi² and cramer’s v\n",
    "# Or eventually heat map\n",
    "\n",
    "df_fatal = df[df[\"Fatal Y/N\"] == \"Y\"]\n"
   ]
  },
  {
   "cell_type": "code",
   "execution_count": 43,
   "metadata": {},
   "outputs": [],
   "source": [
    "import seaborn as sns\n",
    "import matplotlib.pyplot as plt\n",
    "from scipy.stats import chi2_contingency\n",
    "from scipy.stats.contingency import association"
   ]
  },
  {
   "cell_type": "code",
   "execution_count": 35,
   "metadata": {},
   "outputs": [
    {
     "data": {
      "image/png": "[encoded data removed]",
      "text/plain": [
       "<Figure size 640x480 with 1 Axes>"
      ]
     },
     "metadata": {},
     "output_type": "display_data"
    }
   ],
   "source": [
    "sns.countplot(df, x=\"Activity\", hue=\"Fatal Y/N\", dodge=False)\n",
    "plt.xticks(rotation=90)\n",
    "plt.show()"
   ]
  },
  {
   "cell_type": "code",
   "execution_count": 40,
   "metadata": {},
   "outputs": [],
   "source": [
    "df_crosstab = pd.crosstab(df[\"Fatal Y/N\"], df.Activity)"
   ]
  },
  {
   "cell_type": "code",
   "execution_count": 41,
   "metadata": {},
   "outputs": [
    {
     "data": {
      "text/html": [
       "<div>\n",
       "<style scoped>\n",
       "    .dataframe tbody tr th:only-of-type {\n",
       "        vertical-align: middle;\n",
       "    }\n",
       "\n",
       "    .dataframe tbody tr th {\n",
       "        vertical-align: top;\n",
       "    }\n",
       "\n",
       "    .dataframe thead th {\n",
       "        text-align: right;\n",
       "    }\n",
       "</style>\n",
       "<table border=\"1\" class=\"dataframe\">\n",
       "  <thead>\n",
       "    <tr style=\"text-align: right;\">\n",
       "      <th>Activity</th>\n",
       "      <th>accident</th>\n",
       "      <th>diving_activities</th>\n",
       "      <th>fishing</th>\n",
       "      <th>surface_sport</th>\n",
       "      <th>swimming</th>\n",
       "      <th>unqualified</th>\n",
       "    </tr>\n",
       "    <tr>\n",
       "      <th>Fatal Y/N</th>\n",
       "      <th></th>\n",
       "      <th></th>\n",
       "      <th></th>\n",
       "      <th></th>\n",
       "      <th></th>\n",
       "      <th></th>\n",
       "    </tr>\n",
       "  </thead>\n",
       "  <tbody>\n",
       "    <tr>\n",
       "      <th>N</th>\n",
       "      <td>9</td>\n",
       "      <td>533</td>\n",
       "      <td>1035</td>\n",
       "      <td>1285</td>\n",
       "      <td>1032</td>\n",
       "      <td>993</td>\n",
       "    </tr>\n",
       "    <tr>\n",
       "      <th>U</th>\n",
       "      <td>4</td>\n",
       "      <td>78</td>\n",
       "      <td>78</td>\n",
       "      <td>57</td>\n",
       "      <td>144</td>\n",
       "      <td>280</td>\n",
       "    </tr>\n",
       "    <tr>\n",
       "      <th>Y</th>\n",
       "      <td>34</td>\n",
       "      <td>175</td>\n",
       "      <td>173</td>\n",
       "      <td>94</td>\n",
       "      <td>465</td>\n",
       "      <td>535</td>\n",
       "    </tr>\n",
       "  </tbody>\n",
       "</table>\n",
       "</div>"
      ],
      "text/plain": [
       "Activity   accident  diving_activities  fishing  surface_sport  swimming  \\\n",
       "Fatal Y/N                                                                  \n",
       "N                 9                533     1035           1285      1032   \n",
       "U                 4                 78       78             57       144   \n",
       "Y                34                175      173             94       465   \n",
       "\n",
       "Activity   unqualified  \n",
       "Fatal Y/N               \n",
       "N                  993  \n",
       "U                  280  \n",
       "Y                  535  "
      ]
     },
     "execution_count": 41,
     "metadata": {},
     "output_type": "execute_result"
    }
   ],
   "source": [
    "df_crosstab"
   ]
  },
  {
   "cell_type": "code",
   "execution_count": null,
   "metadata": {},
   "outputs": [
    {
     "data": {
      "text/plain": [
       "(664.4038201644945, 2.736439338973053e-136, 10)"
      ]
     },
     "execution_count": 50,
     "metadata": {},
     "output_type": "execute_result"
    }
   ],
   "source": [
    "chi2_statistic, chi2_p_value, _, _ = chi2_contingency(df_crosstab)\n",
    "\n",
    "chi2_statistic, chi2_p_value"
   ]
  },
  {
   "cell_type": "code",
   "execution_count": 45,
   "metadata": {},
   "outputs": [
    {
     "data": {
      "text/plain": [
       "0.217785014843107"
      ]
     },
     "execution_count": 45,
     "metadata": {},
     "output_type": "execute_result"
    }
   ],
   "source": [
    "association(df_crosstab, method=\"cramer\")"
   ]
  },
  {
   "cell_type": "code",
   "execution_count": 49,
   "metadata": {},
   "outputs": [
    {
     "data": {
      "text/html": [
       "<div>\n",
       "<style scoped>\n",
       "    .dataframe tbody tr th:only-of-type {\n",
       "        vertical-align: middle;\n",
       "    }\n",
       "\n",
       "    .dataframe tbody tr th {\n",
       "        vertical-align: top;\n",
       "    }\n",
       "\n",
       "    .dataframe thead th {\n",
       "        text-align: right;\n",
       "    }\n",
       "</style>\n",
       "<table border=\"1\" class=\"dataframe\">\n",
       "  <thead>\n",
       "    <tr style=\"text-align: right;\">\n",
       "      <th>Activity</th>\n",
       "      <th>accident</th>\n",
       "      <th>diving_activities</th>\n",
       "      <th>fishing</th>\n",
       "      <th>surface_sport</th>\n",
       "      <th>swimming</th>\n",
       "      <th>unqualified</th>\n",
       "    </tr>\n",
       "    <tr>\n",
       "      <th>Fatal Y/N</th>\n",
       "      <th></th>\n",
       "      <th></th>\n",
       "      <th></th>\n",
       "      <th></th>\n",
       "      <th></th>\n",
       "      <th></th>\n",
       "    </tr>\n",
       "  </thead>\n",
       "  <tbody>\n",
       "    <tr>\n",
       "      <th>N</th>\n",
       "      <td>0.191489</td>\n",
       "      <td>0.678117</td>\n",
       "      <td>0.804821</td>\n",
       "      <td>0.894847</td>\n",
       "      <td>0.628885</td>\n",
       "      <td>0.549226</td>\n",
       "    </tr>\n",
       "    <tr>\n",
       "      <th>U</th>\n",
       "      <td>0.085106</td>\n",
       "      <td>0.099237</td>\n",
       "      <td>0.060653</td>\n",
       "      <td>0.039694</td>\n",
       "      <td>0.087751</td>\n",
       "      <td>0.154867</td>\n",
       "    </tr>\n",
       "    <tr>\n",
       "      <th>Y</th>\n",
       "      <td>0.723404</td>\n",
       "      <td>0.222646</td>\n",
       "      <td>0.134526</td>\n",
       "      <td>0.065460</td>\n",
       "      <td>0.283364</td>\n",
       "      <td>0.295907</td>\n",
       "    </tr>\n",
       "  </tbody>\n",
       "</table>\n",
       "</div>"
      ],
      "text/plain": [
       "Activity   accident  diving_activities   fishing  surface_sport  swimming  \\\n",
       "Fatal Y/N                                                                   \n",
       "N          0.191489           0.678117  0.804821       0.894847  0.628885   \n",
       "U          0.085106           0.099237  0.060653       0.039694  0.087751   \n",
       "Y          0.723404           0.222646  0.134526       0.065460  0.283364   \n",
       "\n",
       "Activity   unqualified  \n",
       "Fatal Y/N               \n",
       "N             0.549226  \n",
       "U             0.154867  \n",
       "Y             0.295907  "
      ]
     },
     "execution_count": 49,
     "metadata": {},
     "output_type": "execute_result"
    }
   ],
   "source": [
    "df_crosstab_normalized = df_crosstab.apply(lambda x: x / x.sum(), axis=0)\n",
    "df_crosstab_normalized"
   ]
  }
 ],
 "metadata": {
  "kernelspec": {
   "display_name": "datasci_env",
   "language": "python",
   "name": "python3"
  },
  "language_info": {
   "codemirror_mode": {
    "name": "ipython",
    "version": 3
   },
   "file_extension": ".py",
   "mimetype": "text/x-python",
   "name": "python",
   "nbconvert_exporter": "python",
   "pygments_lexer": "ipython3",
   "version": "3.8.20"
  }
 },
 "nbformat": 4,
 "nbformat_minor": 2
}
